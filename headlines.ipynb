{
 "cells": [
  {
   "cell_type": "code",
   "execution_count": 1,
   "id": "f1be2149-83b2-4c4a-848c-9148a0a61a53",
   "metadata": {},
   "outputs": [],
   "source": [
    "from ibapi.client import EClient\n",
    "from ibapi.wrapper import EWrapper\n",
    "from ibapi.contract import Contract\n",
    "from ibapi.common import *  # noqa\n",
    "from threading import Thread\n",
    "import time\n",
    "import nest_asyncio\n",
    "nest_asyncio.apply()\n",
    "import pandas as pd\n",
    "import random \n",
    "import re\n",
    "from datetime import datetime, timedelta\n",
    "import json"
   ]
  },
  {
   "cell_type": "code",
   "execution_count": null,
   "id": "40c65154-eb03-4548-bfd9-408a66407139",
   "metadata": {},
   "outputs": [],
   "source": [
    "def clean_news_headlines(news_headlines):\n",
    "    ''' Helper '''\n",
    "    \n",
    "    query = []\n",
    "    #print(news_headlines)\n",
    "    for news in news_headlines:\n",
    "        cleaned = re.sub(r'\\{.*?\\}', '', news['headline']) + '- ' + news['time']\n",
    "        query.append(cleaned)\n",
    "\n",
    "    return query"
   ]
  },
  {
   "cell_type": "code",
   "execution_count": 2,
   "id": "74802592-2534-460b-9ee3-930fb98f89b2",
   "metadata": {},
   "outputs": [],
   "source": [
    "class IBApi(EWrapper, EClient):\n",
    "    def __init__(self):\n",
    "        EClient.__init__(self, self)\n",
    "        self.headlines = []  # List to store news headlines\n",
    "        self.conId = None  # Store the retrieved conId\n",
    "        self.news_providers = []  # Store available news providers\n",
    "\n",
    "    def contractDetails(self, reqId, contractDetails):\n",
    "        self.conId = contractDetails.contract.conId\n",
    "\n",
    "    def newsProviders(self, newsProviders):\n",
    "        self.news_providers = [provider.code for provider in newsProviders]\n",
    "\n",
    "    def historicalNews(self, reqId: int, time: str, providerCode: str, articleId: str, headline: str):\n",
    "        # Save each headline to the list\n",
    "        self.headlines.append({\n",
    "            \"time\": time,\n",
    "            \"providerCode\": providerCode,\n",
    "            \"articleId\": articleId,\n",
    "            \"headline\": headline\n",
    "    })\n",
    "\n",
    "def run_loop(api):\n",
    "    api.run()"
   ]
  },
  {
   "cell_type": "code",
   "execution_count": 3,
   "id": "1ae77ac1-29cd-4193-8931-bfac63d5882e",
   "metadata": {},
   "outputs": [
    {
     "name": "stderr",
     "output_type": "stream",
     "text": [
      "ERROR -1 2104 Market data farm connection is OK:usfarm.nj\n",
      "ERROR -1 2104 Market data farm connection is OK:cashfarm\n",
      "ERROR -1 2104 Market data farm connection is OK:usfarm\n",
      "ERROR -1 2106 HMDS data farm connection is OK:ushmds\n",
      "ERROR -1 2158 Sec-def data farm connection is OK:secdefil\n"
     ]
    }
   ],
   "source": [
    "## Initialize the IBApi object\n",
    "app = IBApi()\n",
    "\n",
    "# Connect to TWS or IB Gateway\n",
    "app.connect(\"127.0.0.1\", 7497, clientId=1)\n",
    "\n",
    "# Start the API thread\n",
    "api_thread = Thread(target=run_loop, args=(app,), daemon=True)\n",
    "api_thread.start()"
   ]
  },
  {
   "cell_type": "code",
   "execution_count": 13,
   "id": "9429343d-981b-48c4-9c8b-4fc90c5cbd3e",
   "metadata": {},
   "outputs": [],
   "source": [
    "def get_Data(contract, endDate, historicalNewsParam):\n",
    "\n",
    "    historical_news_format = endDate.strftime(\"%Y-%m-%d %H:%M:%S\") + \".0\"\n",
    "\n",
    "    app.reqContractDetails(1, contract)\n",
    "    time.sleep(2)  # Wait for the conId to be retrieved\n",
    "    if app.conId is None:\n",
    "        raise Exception(\"Failed to retrieve conId for the contract\")\n",
    "    else:\n",
    "        print('Contract ID: ', app.conId)\n",
    "\n",
    "    app.reqNewsProviders()\n",
    "    time.sleep(2)  # Wait for news providers to be retrieved\n",
    "    if not app.news_providers:\n",
    "        raise Exception(\"Failed to retrieve news providers\")\n",
    "\n",
    "    news_providers = \"+\".join(app.news_providers)\n",
    "    #print(news_providers)\n",
    "\n",
    "    # Request historical news for the contract\n",
    "    time.sleep(2)  # Wait for connection #Use the startdate, I havent figured how the date range works but we can simply filter out the news later on. :)\n",
    "    app.reqHistoricalNews(1, app.conId, news_providers, historical_news_format, \"\", historicalNewsParam['numberOfHeadlines'], None)  # Fetch the latest 10 news items\n",
    "\n",
    "    # Fetch content for each article\n",
    "    time.sleep(15) # Wait for news to fetch\n",
    "\n",
    "    news_headlines = app.headlines\n",
    "    print(len(news_headlines))\n",
    "    \n",
    "    return news_headlines\n"
   ]
  },
  {
   "cell_type": "code",
   "execution_count": 14,
   "id": "364abe72-a30b-4851-8a07-7cd1ebd4c8c6",
   "metadata": {},
   "outputs": [],
   "source": [
    "contract = Contract()\n",
    "contract.symbol = \"BRK B\"\n",
    "contract.secType = \"STK\"\n",
    "contract.exchange = \"SMART\"\n",
    "contract.currency = \"USD\"\n",
    "\n",
    "endDate = datetime.today().replace(hour=0, minute=0, second=0, microsecond=0)\n",
    "endDate = endDate - timedelta(minutes=15)\n",
    "#datetime(2023, 5, 8, 21, 44, 0)"
   ]
  },
  {
   "cell_type": "code",
   "execution_count": 15,
   "id": "028b507e-a964-4967-badb-784f1ab160bd",
   "metadata": {},
   "outputs": [],
   "source": [
    "historicalNewsParam = {\n",
    "    'numberOfHeadlines' : 300 #300 being the limit for one call\n",
    "}"
   ]
  },
  {
   "cell_type": "code",
   "execution_count": 16,
   "id": "98786481-539b-471c-b193-25e09631fe25",
   "metadata": {},
   "outputs": [],
   "source": [
    "def getAllHeadlines(contract, historicalNewsParam):\n",
    "\n",
    "    endDate = datetime.today().replace(hour=0, minute=0, second=0, microsecond=0)\n",
    "    endDate = endDate - timedelta(minutes=15)\n",
    "    \n",
    "    final_list = []\n",
    "    continue_flag = 1\n",
    "    \n",
    "    prev_a = 0\n",
    "    while continue_flag == 1:\n",
    "        a = get_Data(contract, endDate, historicalNewsParam)\n",
    "        #print(\"HAHA\", len(a) - prev_a)\n",
    "        \n",
    "        if len(a) - prev_a <= 1:\n",
    "            break\n",
    "        else:\n",
    "            final_list += a\n",
    "            endDate = datetime.strptime(a[-1]['time'], '%Y-%m-%d %H:%M:%S.%f') + timedelta(days=1)\n",
    "            prev_a = len(a)\n",
    "\n",
    "    app.headlines = [] #Resent the headlines\n",
    "\n",
    "    return final_list"
   ]
  },
  {
   "cell_type": "code",
   "execution_count": 17,
   "id": "aae958d8-e7b0-4bda-af31-7ea51e6bff35",
   "metadata": {},
   "outputs": [
    {
     "name": "stdout",
     "output_type": "stream",
     "text": [
      "72063691\n",
      "255\n",
      "72063691\n",
      "256\n"
     ]
    }
   ],
   "source": [
    "headlines = getAllHeadlines(contract, historicalNewsParam)"
   ]
  },
  {
   "cell_type": "code",
   "execution_count": 9,
   "id": "64807d46-9b4a-487e-8a36-fb5d7ddaddda",
   "metadata": {},
   "outputs": [],
   "source": [
    "#Implementing this for all russell 1000 stocks"
   ]
  },
  {
   "cell_type": "code",
   "execution_count": 19,
   "id": "d9dba9ab-a8de-4b48-8164-37e2ba91d944",
   "metadata": {},
   "outputs": [],
   "source": [
    "stocks = pd.read_csv(\"russell-1000-index-12-19-2024.csv\")\n",
    "stocks['Symbol'] = stocks['Symbol'].str.replace('.', ' ')"
   ]
  },
  {
   "cell_type": "code",
   "execution_count": 20,
   "id": "5cc577b8-b0e4-4dc0-b4f0-bb3df14e0278",
   "metadata": {},
   "outputs": [],
   "source": [
    "random.seed(69)\n",
    "sample_size = 3\n",
    "stocks = random.sample(stocks['Symbol'].tolist(), sample_size)"
   ]
  },
  {
   "cell_type": "code",
   "execution_count": 21,
   "id": "24d24db9-27de-42bb-92e7-b8b7de5b7da8",
   "metadata": {},
   "outputs": [
    {
     "data": {
      "text/plain": [
       "['PCOR', 'ALGM', 'AZPN']"
      ]
     },
     "execution_count": 21,
     "metadata": {},
     "output_type": "execute_result"
    }
   ],
   "source": [
    "stocks"
   ]
  },
  {
   "cell_type": "code",
   "execution_count": 22,
   "id": "63832476-88df-450b-bc6e-777e02d7a083",
   "metadata": {},
   "outputs": [
    {
     "name": "stdout",
     "output_type": "stream",
     "text": [
      "491665436\n",
      "155\n",
      "491665436\n",
      "156\n",
      "452380681\n",
      "66\n",
      "452380681\n",
      "67\n",
      "562283026\n",
      "85\n",
      "562283026\n",
      "86\n"
     ]
    }
   ],
   "source": [
    "data = {}\n",
    "\n",
    "for stock in stocks:\n",
    "\n",
    "    #Make a Contract\n",
    "    contract = Contract()\n",
    "    contract.symbol = stock\n",
    "    contract.secType = \"STK\"\n",
    "    contract.exchange = \"SMART\"\n",
    "    contract.currency = \"USD\"\n",
    "    \n",
    "    current_stock_headlines = getAllHeadlines(contract, historicalNewsParam)\n",
    "\n",
    "    data[stock] = current_stock_headlines\n",
    "\n",
    "    # Save the current state of data to a JSON file\n",
    "    with open(\"headlines.json\", \"w\") as f: \n",
    "        json.dump(data, f, indent=4)"
   ]
  },
  {
   "cell_type": "code",
   "execution_count": 25,
   "id": "c1ac9b26-c0b5-4661-a621-e5af25935116",
   "metadata": {},
   "outputs": [],
   "source": [
    "app.disconnect()"
   ]
  },
  {
   "cell_type": "code",
   "execution_count": null,
   "id": "63739512-486a-4e53-9df0-717a402a89b8",
   "metadata": {},
   "outputs": [],
   "source": []
  }
 ],
 "metadata": {
  "kernelspec": {
   "display_name": "Python 3 (ipykernel)",
   "language": "python",
   "name": "python3"
  },
  "language_info": {
   "codemirror_mode": {
    "name": "ipython",
    "version": 3
   },
   "file_extension": ".py",
   "mimetype": "text/x-python",
   "name": "python",
   "nbconvert_exporter": "python",
   "pygments_lexer": "ipython3",
   "version": "3.10.0"
  }
 },
 "nbformat": 4,
 "nbformat_minor": 5
}
