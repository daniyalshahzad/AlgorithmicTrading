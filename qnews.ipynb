{
 "cells": [
  {
   "cell_type": "code",
   "execution_count": 22,
   "id": "f1be2149-83b2-4c4a-848c-9148a0a61a53",
   "metadata": {},
   "outputs": [],
   "source": [
    "from ibapi.client import EClient\n",
    "from ibapi.wrapper import EWrapper\n",
    "from ibapi.contract import Contract\n",
    "from ibapi.common import *  # noqa\n",
    "from threading import Thread\n",
    "import time\n",
    "import nest_asyncio\n",
    "nest_asyncio.apply()\n",
    "\n",
    "import re\n",
    "from datetime import datetime, timedelta"
   ]
  },
  {
   "cell_type": "code",
   "execution_count": 23,
   "id": "74802592-2534-460b-9ee3-930fb98f89b2",
   "metadata": {},
   "outputs": [],
   "source": [
    "class IBApi(EWrapper, EClient):\n",
    "    def __init__(self):\n",
    "        EClient.__init__(self, self)\n",
    "        self.headlines = []  # List to store news headlines\n",
    "        self.price_data = []\n",
    "        self.conId = None  # Store the retrieved conId\n",
    "        self.news_providers = []  # Store available news providers\n",
    "\n",
    "    def contractDetails(self, reqId, contractDetails):\n",
    "        self.conId = contractDetails.contract.conId\n",
    "\n",
    "    def newsProviders(self, newsProviders):\n",
    "        self.news_providers = [provider.code for provider in newsProviders]\n",
    "\n",
    "    def historicalData(self, reqId: int, bar):\n",
    "        self.price_data.append({\n",
    "            \"time\": bar.date,\n",
    "            \"open\": bar.open,\n",
    "            \"high\": bar.high,\n",
    "            \"low\": bar.low,\n",
    "            \"close\": bar.close,\n",
    "            \"volume\": bar.volume\n",
    "        })\n",
    "\n",
    "    def historicalNews(self, reqId: int, time: str, providerCode: str, articleId: str, headline: str):\n",
    "        # Save each headline to the list\n",
    "        self.headlines.append({\n",
    "            \"time\": time,\n",
    "            \"providerCode\": providerCode,\n",
    "            \"articleId\": articleId,\n",
    "            \"headline\": headline\n",
    "    })\n",
    "\n",
    "def run_loop(api):\n",
    "    api.run()\n",
    "\n",
    "def clean_news_headlines(news_headlines):\n",
    "    ''' Helper '''\n",
    "    \n",
    "    query = []\n",
    "    for news in news_headlines:\n",
    "        cleaned = re.sub(r'\\{.*?\\}', '', news['headline']) + '- ' + news['time']\n",
    "        query.append(cleaned)\n",
    "\n",
    "    return query"
   ]
  },
  {
   "cell_type": "code",
   "execution_count": 24,
   "id": "f4dc9c65-11ab-4751-95ac-b4f4a5f2a5cc",
   "metadata": {},
   "outputs": [
    {
     "name": "stderr",
     "output_type": "stream",
     "text": [
      "ERROR -1 2104 Market data farm connection is OK:usfarm.nj\n",
      "ERROR -1 2104 Market data farm connection is OK:cashfarm\n",
      "ERROR -1 2104 Market data farm connection is OK:usfarm\n",
      "ERROR -1 2106 HMDS data farm connection is OK:euhmds\n",
      "ERROR -1 2106 HMDS data farm connection is OK:fundfarm\n",
      "ERROR -1 2106 HMDS data farm connection is OK:ushmds\n",
      "ERROR -1 2158 Sec-def data farm connection is OK:secdefil\n"
     ]
    }
   ],
   "source": [
    "# Initialize the IBApi object\n",
    "app = IBApi()\n",
    "\n",
    "# Connect to TWS or IB Gateway\n",
    "app.connect(\"127.0.0.1\", 7497, clientId=1)\n",
    "\n",
    "# Start the API thread\n",
    "api_thread = Thread(target=run_loop, args=(app,), daemon=True)\n",
    "api_thread.start()"
   ]
  },
  {
   "cell_type": "code",
   "execution_count": 25,
   "id": "9429343d-981b-48c4-9c8b-4fc90c5cbd3e",
   "metadata": {},
   "outputs": [],
   "source": [
    "def get_Data(contract, endDate, historicalDataParams, historicalNewsParam):\n",
    "\n",
    "    historical_data_format = endDate.strftime(\"%Y%m%d %H:%M:%S\") + \" US/Eastern\"\n",
    "    historical_news_format = endDate.strftime(\"%Y-%m-%d %H:%M:%S\") + \".0\"\n",
    "\n",
    "    app.reqContractDetails(1, contract)\n",
    "    time.sleep(2)  # Wait for the conId to be retrieved\n",
    "    if app.conId is None:\n",
    "        raise Exception(\"Failed to retrieve conId for the contract\")\n",
    "\n",
    "    app.reqNewsProviders()\n",
    "    time.sleep(2)  # Wait for news providers to be retrieved\n",
    "    if not app.news_providers:\n",
    "        raise Exception(\"Failed to retrieve news providers\")\n",
    "\n",
    "    news_providers = \"+\".join(app.news_providers)\n",
    "    \n",
    "    # app.reqHistoricalData(\n",
    "    #     reqId=1,\n",
    "    #     contract=historicalDataParams['contract'],\n",
    "    #     endDateTime=historical_data_format,  # End of the day in UTC\n",
    "    #     durationStr=\"1 D\",                    # 1 day duration\n",
    "    #     barSizeSetting=\"2 hours\",             # 2-hour bars\n",
    "    #     whatToShow=\"MIDPOINT\",                # Midpoint prices\n",
    "    #     useRTH=1,                             # Regular Trading Hours only\n",
    "    #     formatDate=1,\n",
    "    #     keepUpToDate=False,\n",
    "    #     chartOptions=None                     # No special chart options\n",
    "    # )\n",
    "\n",
    "    app.reqHistoricalData(\n",
    "        reqId=1,\n",
    "        contract=historicalDataParams['contract'],\n",
    "        endDateTime=historical_data_format,  # End of the day in UTC\n",
    "        durationStr=historicalDataParams['historicalDataDuration'],\n",
    "        barSizeSetting=historicalDataParams['frequency'],             # 2-hour bars\n",
    "        whatToShow=\"MIDPOINT\",                # Midpoint prices\n",
    "        useRTH=1,                             # Regular Trading Hours only\n",
    "        formatDate=1,\n",
    "        keepUpToDate=False,\n",
    "        chartOptions=None                     # No special chart options\n",
    "    )\n",
    "    \n",
    "    # Request historical news for the contract\n",
    "    time.sleep(2)  # Wait for connection #Use the startdate, I havent figured how the date range works but we can simply filter out the news later on. :)\n",
    "    app.reqHistoricalNews(1, app.conId, news_providers, historical_news_format, \"\", historicalNewsParam['numberOfHeadlines'], None)  # Fetch the latest 10 news items\n",
    "\n",
    "    \n",
    "    # Wait for news to fetch\n",
    "    time.sleep(5)\n",
    "    \n",
    "    # Save headlines to a variable\n",
    "    news_headlines = clean_news_headlines(app.headlines)\n",
    "    prices = app.price_data\n",
    "\n",
    "    return prices, news_headlines"
   ]
  },
  {
   "cell_type": "code",
   "execution_count": 26,
   "id": "364abe72-a30b-4851-8a07-7cd1ebd4c8c6",
   "metadata": {},
   "outputs": [],
   "source": [
    "contract = Contract()\n",
    "contract.symbol = \"AMD\"\n",
    "contract.secType = \"STK\"\n",
    "contract.exchange = \"SMART\"\n",
    "contract.currency = \"USD\"\n",
    "\n",
    "endDate = datetime(2024, 12, 11, 21, 44, 0)"
   ]
  },
  {
   "cell_type": "code",
   "execution_count": 27,
   "id": "028b507e-a964-4967-badb-784f1ab160bd",
   "metadata": {},
   "outputs": [],
   "source": [
    "historicalDataParams = {\n",
    "    'contract': contract,\n",
    "    'historicalDataDuration': '1 W',  # One week\n",
    "    'frequency': '2 hours',\n",
    "}\n",
    "\n",
    "historicalNewsParam = {\n",
    "    'numberOfHeadlines' : 50\n",
    "}"
   ]
  },
  {
   "cell_type": "code",
   "execution_count": 28,
   "id": "344058f1-f430-4d93-8c93-8c5eab3ea4b2",
   "metadata": {},
   "outputs": [],
   "source": [
    "a, b = get_Data(contract, endDate, historicalDataParams, historicalNewsParam)"
   ]
  },
  {
   "cell_type": "code",
   "execution_count": 32,
   "id": "8d84497d-7fbc-4da9-83b9-c75f5fdc3340",
   "metadata": {},
   "outputs": [
    {
     "data": {
      "text/plain": [
       "[\"Nvidia Stock Rises. 3 Reasons to Look Past China's Antitrust Probe. -- Barrons.com- 2024-12-11 18:33:00.0\",\n",
       " 'AMD, Broadcom, Marvell Are Trailing Nvidia. This AI Chip Stock Can Take Second Spot. -- Barrons.com- 2024-12-11 15:20:00.0',\n",
       " \"Nvidia Stock Rises. 3 Reasons to Look Past China's Antitrust Probe. -- Barrons.com- 2024-12-11 15:14:00.0\",\n",
       " \"AMD, Broadcom, Marvell Are in Nvidia's Wake. This AI Chip Stock Can Take Second Spot. -- Barrons.com- 2024-12-11 13:23:00.0\",\n",
       " \"Nvidia Stock Rises. 3 Reasons to Look Past China's Antitrust Probe. -- Barrons.com- 2024-12-11 11:44:00.0\",\n",
       " 'Nvidia Stock Gains. What TSMC Sales, China Probe Mean for Chip Maker. -- Barrons.com- 2024-12-10 15:22:00.0',\n",
       " \"Press Release: AMD Introduces Versal RF Series Adaptive SoCs Offering the Industry's Highest Compute in a Single-Chip Device with Integrated Direct RF-Sampling Converters- 2024-12-10 14:00:00.0\",\n",
       " 'Nvidia Stock Slips. TSMC Revenue Boost Fails to Offset Shadow of China Probe. -- Barrons.com- 2024-12-10 12:58:00.0',\n",
       " 'Nvidia, Other AI Stocks Are Stalling. Where to -2-- 2024-12-10 12:12:00.0',\n",
       " 'Nvidia, Other AI Stocks Are Stalling. Where to Find the Next Stars and 5 Other Things to Know Today. -- Barrons.com- 2024-12-10 12:12:00.0',\n",
       " 'Press Release: Tim Keating Joins AMD as Senior Vice President, Government Relations and Regulatory Affairs- 2024-12-09 21:15:00.0',\n",
       " 'Stocks Cling To Losses As Nvidia Shares Drop; Bitcoin Stocks Feel Heat (Live Coverage) -- IBD- 2024-12-09 18:50:00.0',\n",
       " 'AMD Stock Falls. Competition From Nvidia Is Just 1 Risk, Analyst Says. -- Barrons.com- 2024-12-09 17:23:00.0',\n",
       " 'Stocks Weaken As Nvidia Weighs On Dow Jones, But China Stocks Rally (Live Coverage) -- IBD- 2024-12-09 17:01:00.0',\n",
       " 'AMD Stock Downgraded On AI Chip Competition, Weakening PC Sales -- IBD- 2024-12-09 16:23:00.0',\n",
       " 'Dow Jones Flat As Nvidia Falls On China Probe; Palantir Reaches New High (Live Coverage) -- IBD- 2024-12-09 15:31:00.0',\n",
       " '!BofA Securities downgraded Advanced Micro Devices (AMD) to Neutral with target $155- 2024-12-09 12:24:54.0',\n",
       " 'CFA Technology:Insider Review For Week Ended 6-Dec -4-- 2024-12-09 12:14:00.0',\n",
       " 'CFA Technology:Insider Review For Week Ended 6-Dec -3-- 2024-12-09 12:14:00.0',\n",
       " 'CFA Technology:Insider Review For Week Ended 6-Dec -2-- 2024-12-09 12:14:00.0',\n",
       " 'CFA Technology:Insider Review For Week Ended 6-Dec- 2024-12-09 12:13:00.0',\n",
       " 'Advanced Micro Devices Price Target Cut to $155.00/Share From $180.00 by B of A Securities- 2024-12-09 11:54:00.0',\n",
       " 'Advanced Micro Devices Cut to Neutral From Buy by B of A Securities- 2024-12-09 11:54:00.0',\n",
       " \"Bridgewater Sells Nvidia, Buys Super Micro, Palantir -- Barron's- 2024-12-07 02:30:00.0\",\n",
       " \"Streetwise: Intel, CVS, Boeing, and More of the Ugliest Turnaround Attempts This Year -- Barron's- 2024-12-07 02:30:00.0\",\n",
       " 'Substantial Insider Sales: Afternoon Report- 2024-12-06 21:44:00.0',\n",
       " 'Chmn Su Sells 76,496 Of Advanced Micro Devices >AMD- 2024-12-06 21:17:00.0',\n",
       " \"Nvidia Stock Rises. What Musk, Meta's Big Plans Mean for AI Chips. -- Barrons.com- 2024-12-05 18:16:00.0\",\n",
       " 'Advanced Micro Devices Price Target Cut to $180.00/Share From $185.00 by Mizuho- 2024-12-05 18:12:00.0',\n",
       " 'Advanced Micro Devices Is Maintained at Outperform by Mizuho- 2024-12-05 18:12:00.0',\n",
       " \"Nvidia Stock Rises. What Musk, Meta's Big Plans Mean for AI Chips. -- Barrons.com- 2024-12-05 12:56:00.0\",\n",
       " \"Nvidia Stock Slips. What Musk, Meta's Huge Data Center Plans Mean for AI Chip Demand. -- Barrons.com- 2024-12-05 10:36:00.0\",\n",
       " 'Nvidia Stock Rises as Amazon Ramps Up Rival Chip Plans. What It Means for the AI Race. -- Barrons.com- 2024-12-04 22:01:00.0',\n",
       " 'Chmn Su Registers 76,496 Of Advanced Micro Devices >AMD- 2024-12-04 21:42:00.0',\n",
       " 'Nvidia Stock Rises as Amazon Ramps Up Rival Chip Plans. What It Means for the AI Race. -- Barrons.com- 2024-12-04 18:22:00.0',\n",
       " 'Intel, CVS, and More of the Ugliest Turnaround Attempts of 2024 -- Barrons.com- 2024-12-04 13:45:00.0',\n",
       " 'Nvidia Stock Rises as Amazon Ramps Up Rival Chip Plans. What It Means for the AI Race. -- Barrons.com- 2024-12-04 13:33:00.0',\n",
       " 'Nvidia Stock Rises as Amazon Ramps Up Rival Chip Plans. What It Means for the AI Race. -- Barrons.com- 2024-12-04 10:31:00.0',\n",
       " \"Marvell's Earnings Surprise Street as AI Boosts Chip Sales -- Barrons.com- 2024-12-04 10:17:00.0\",\n",
       " \"Marvell's Earnings Surprise Street as AI Boosts Chip Sales -- Barrons.com- 2024-12-04 10:05:00.0\",\n",
       " \"Heard on the Street: Are Intel's Problems Too Big to Fix? -- WSJ- 2024-12-04 07:32:00.0\",\n",
       " \"How Nvidia Could Surge to Double Apple's Market Value -- Barrons.com- 2024-12-03 22:44:00.0\",\n",
       " \"Update: Marvell's Earnings Surprise Street as AI Boosts Chip Sales -- Barrons.com- 2024-12-03 22:32:00.0\",\n",
       " \"Marvell's Earnings Surprise Street as AI Boosts Chip Sales -- Barrons.com- 2024-12-03 21:32:00.0\",\n",
       " \"How Nvidia Could Surge to Double Apple's Market Value -- Barrons.com- 2024-12-03 16:29:00.0\",\n",
       " \"How Nvidia Could Surge to Double Apple's Market Value -- Barrons.com- 2024-12-03 16:14:00.0\",\n",
       " \"How Nvidia Could Surge to Double Apple's Market Value -- Barrons.com- 2024-12-03 13:57:00.0\",\n",
       " \"Nvidia Can Grow Twice the Size of Apple. Strategist Explains His 'Outrageous' Forecast. -- Barrons.com- 2024-12-03 12:22:00.0\",\n",
       " \"Are Intel's Problems Too Big to Fix? -- Heard on the Street -- WSJ- 2024-12-03 10:30:00.0\",\n",
       " \"Marvell's Earnings Are Coming. AI Should Boost Chip Sales. -- Barrons.com- 2024-12-03 06:30:00.0\"]"
      ]
     },
     "execution_count": 32,
     "metadata": {},
     "output_type": "execute_result"
    }
   ],
   "source": [
    "b"
   ]
  },
  {
   "cell_type": "code",
   "execution_count": 21,
   "id": "b33566db-58b6-40aa-9e01-b480c09841e6",
   "metadata": {},
   "outputs": [],
   "source": [
    "app.disconnect()"
   ]
  },
  {
   "cell_type": "code",
   "execution_count": null,
   "id": "2d59a203-af5b-43ec-95db-00881ac7266a",
   "metadata": {},
   "outputs": [],
   "source": []
  },
  {
   "cell_type": "code",
   "execution_count": null,
   "id": "09e68811-913c-4191-b395-6b251e05c2fe",
   "metadata": {},
   "outputs": [],
   "source": []
  },
  {
   "cell_type": "code",
   "execution_count": null,
   "id": "0b528bbd-bb2e-40f8-8478-ce66dd20c103",
   "metadata": {},
   "outputs": [],
   "source": []
  }
 ],
 "metadata": {
  "kernelspec": {
   "display_name": "Python 3 (ipykernel)",
   "language": "python",
   "name": "python3"
  },
  "language_info": {
   "codemirror_mode": {
    "name": "ipython",
    "version": 3
   },
   "file_extension": ".py",
   "mimetype": "text/x-python",
   "name": "python",
   "nbconvert_exporter": "python",
   "pygments_lexer": "ipython3",
   "version": "3.10.0"
  }
 },
 "nbformat": 4,
 "nbformat_minor": 5
}
