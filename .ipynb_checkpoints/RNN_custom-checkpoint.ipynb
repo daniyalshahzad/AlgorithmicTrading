{
 "cells": [
  {
   "cell_type": "code",
   "execution_count": 2,
   "id": "453fb77f-3667-489f-82dc-b551c8750c36",
   "metadata": {},
   "outputs": [],
   "source": [
    "import numpy as np\n",
    "from torch.utils.data import Dataset, DataLoader\n",
    "import torch\n",
    "import torch.nn as nn\n",
    "import torch.optim as optim"
   ]
  },
  {
   "cell_type": "markdown",
   "id": "b28f7d2d-4bec-4c50-b697-cfa2c9897f32",
   "metadata": {},
   "source": [
    "### Dummy Data"
   ]
  },
  {
   "cell_type": "code",
   "execution_count": 3,
   "id": "5831824c-e071-4afd-9744-e5cc31378d9c",
   "metadata": {},
   "outputs": [
    {
     "name": "stdout",
     "output_type": "stream",
     "text": [
      "Daily news array (24 * 7 weeks, 5 dimensions):\n",
      "Shape: (168, 5)\n",
      "\n",
      "Daily stock price array (168 days, 1 dimension):\n",
      "Shape: (168, 1)\n"
     ]
    }
   ],
   "source": [
    "num_weeks = 24\n",
    "news_dim = 5    # each weekly news vector is 5-dimensional\n",
    "days_per_week = 7\n",
    "\n",
    "# Create a 2D array for weekly news, shape (24, 5)\n",
    "weekly_news = np.random.randn(num_weeks, news_dim)\n",
    "\n",
    "# Expand the weekly news matrix to daily news:\n",
    "daily_news = np.repeat(weekly_news, repeats=days_per_week, axis=0)  # shape: (24*7, 5)\n",
    "\n",
    "print(\"Daily news array (24 * 7 weeks, 5 dimensions):\")\n",
    "#print(weekly_news)\n",
    "print(\"Shape:\", daily_news.shape)\n",
    "\n",
    "# For daily stock prices:\n",
    "days_per_week = 7\n",
    "total_days = num_weeks * days_per_week  # 24 weeks * 7 days = 168 days\n",
    "\n",
    "# Create a daily stock price vector; here, we assume each day's stock price is 1-dimensional.\n",
    "daily_stock_prices = abs(np.random.randn(total_days, 1)) + 10\n",
    "print(\"\\nDaily stock price array (168 days, 1 dimension):\")\n",
    "#print(daily_stock_prices)\n",
    "print(\"Shape:\", daily_stock_prices.shape)"
   ]
  },
  {
   "cell_type": "markdown",
   "id": "56705672-d386-4de2-80d7-a8b11943b662",
   "metadata": {},
   "source": [
    "We now have 168 data points as the sequence. Each point has one exogenous variable, news embedding, and one stock price."
   ]
  },
  {
   "cell_type": "code",
   "execution_count": 4,
   "id": "6bed42e8-e348-4a0e-9d3a-f33f499cec81",
   "metadata": {},
   "outputs": [],
   "source": [
    "#Making the sequence for sequence based predictors\n",
    "seq = np.concatenate([daily_news, daily_stock_prices], axis=1)  # Resulting shape: (168, 6)"
   ]
  },
  {
   "cell_type": "code",
   "execution_count": 5,
   "id": "522a4251-1c94-4e09-8896-07ce5de092e9",
   "metadata": {},
   "outputs": [
    {
     "name": "stdout",
     "output_type": "stream",
     "text": [
      "\n",
      "Label vector shape: (167,)\n"
     ]
    }
   ],
   "source": [
    "stock_1d = daily_stock_prices.reshape(-1)  # Flatten from (168,1) to (168,)\n",
    "labels = np.zeros(total_days - 1, dtype=int)  # We'll have 167 valid comparisons\n",
    "\n",
    "for t in range(total_days - 1):\n",
    "    if stock_1d[t+1] > stock_1d[t]:\n",
    "        labels[t] = 1\n",
    "    else:\n",
    "        labels[t] = 0\n",
    "\n",
    "print(\"\\nLabel vector shape:\", labels.shape)  # (167,)"
   ]
  },
  {
   "cell_type": "code",
   "execution_count": 6,
   "id": "3285652e-8a35-4a14-b432-246222dd6e41",
   "metadata": {},
   "outputs": [],
   "source": [
    "X = seq[:-1]       # shape (167, 6)\n",
    "y = labels         # shape (167,)"
   ]
  },
  {
   "cell_type": "code",
   "execution_count": 26,
   "id": "6cc7cee0-d5fb-4095-8627-619e9ad9c4f2",
   "metadata": {},
   "outputs": [],
   "source": [
    "X_tensor = torch.tensor(X, dtype=torch.float32).unsqueeze(0)  # shape: (1, 167, 6)\n",
    "y_tensor = torch.tensor(y, dtype=torch.float32).unsqueeze(0)     # shape: (1, 167)"
   ]
  },
  {
   "cell_type": "code",
   "execution_count": 27,
   "id": "569614e9-d91a-4fc7-8593-176df036672d",
   "metadata": {},
   "outputs": [
    {
     "data": {
      "text/plain": [
       "torch.Size([1, 167, 6])"
      ]
     },
     "execution_count": 27,
     "metadata": {},
     "output_type": "execute_result"
    }
   ],
   "source": [
    "X_tensor.shape"
   ]
  },
  {
   "cell_type": "markdown",
   "id": "76384ae7-0099-4dc5-9772-107c4f6c2446",
   "metadata": {},
   "source": [
    "### RNN (without Teacher Forcing)"
   ]
  },
  {
   "cell_type": "markdown",
   "id": "33981848-d694-4190-9378-ca6e49de1537",
   "metadata": {},
   "source": [
    "Since we are doing classification at each time point, we are not using the output of the model as an input to the next timestep."
   ]
  },
  {
   "cell_type": "code",
   "execution_count": 28,
   "id": "99e40144-49c4-48e8-9fe7-5698c31eb627",
   "metadata": {},
   "outputs": [],
   "source": [
    "class StockRNN(nn.Module):\n",
    "    def __init__(self,  input_size, hidden_size):\n",
    "        super().__init__()\n",
    "        self.hidden_size = hidden_size\n",
    "        self.rnn = nn.RNN(input_size, hidden_size)\n",
    "        self.fc = nn.Linear(hidden_size, 1)\n",
    "\n",
    "    def forward(self, x):\n",
    "        out, _ = self.rnn(x) #Dont need the hidden state here\n",
    "        logits = self.fc(out)\n",
    "\n",
    "        return logits"
   ]
  },
  {
   "cell_type": "code",
   "execution_count": 29,
   "id": "9cb24c7d-6c63-40b4-a1c9-a163df0a3494",
   "metadata": {},
   "outputs": [],
   "source": [
    "# Model hyperparameters\n",
    "input_dim = 6      # Daily feature vector dimension.\n",
    "hidden_dim = 32    # Hidden state size."
   ]
  },
  {
   "cell_type": "code",
   "execution_count": 30,
   "id": "462734e4-c2a5-45d3-a3ca-509e157fff99",
   "metadata": {},
   "outputs": [],
   "source": [
    "model = StockRNN(input_dim, hidden_dim)"
   ]
  },
  {
   "cell_type": "code",
   "execution_count": 31,
   "id": "5bc28100-d018-4b31-9ef4-9f3448d41a32",
   "metadata": {},
   "outputs": [],
   "source": [
    "criterion = nn.BCEWithLogitsLoss()  # Combines sigmoid + binary cross-entropy.\n",
    "optimizer = optim.Adam(model.parameters(), lr=0.001)"
   ]
  },
  {
   "cell_type": "code",
   "execution_count": 32,
   "id": "f56586bf-0be4-41a0-a020-4d3c8d867bdb",
   "metadata": {},
   "outputs": [
    {
     "name": "stdout",
     "output_type": "stream",
     "text": [
      "Epoch 10/100 - Loss: 0.6907\n",
      "Epoch 20/100 - Loss: 0.6900\n",
      "Epoch 30/100 - Loss: 0.6870\n",
      "Epoch 40/100 - Loss: 0.6854\n",
      "Epoch 50/100 - Loss: 0.6836\n",
      "Epoch 60/100 - Loss: 0.6820\n",
      "Epoch 70/100 - Loss: 0.6804\n",
      "Epoch 80/100 - Loss: 0.6789\n",
      "Epoch 90/100 - Loss: 0.6775\n",
      "Epoch 100/100 - Loss: 0.6761\n"
     ]
    }
   ],
   "source": [
    "num_epochs = 100\n",
    "\n",
    "for epoch in range(num_epochs):\n",
    "    \n",
    "    model.train()\n",
    "    optimizer.zero_grad()\n",
    "    \n",
    "    # Forward pass: model returns logits of shape (1, 167, 1)\n",
    "    logits = model(X_tensor)  # shape: (1, 167, 1)\n",
    "    # Flatten logits and targets to (batch*seq_len, 1)\n",
    "    logits = logits.view(-1)  # shape: (167,)\n",
    "    targets = y_tensor.view(-1)  # shape: (167,)\n",
    "    \n",
    "    loss = criterion(logits, targets)\n",
    "    loss.backward()\n",
    "    optimizer.step()\n",
    "    \n",
    "    if (epoch+1) % 10 == 0:\n",
    "        print(f\"Epoch {epoch+1}/{num_epochs} - Loss: {loss.item():.4f}\")"
   ]
  },
  {
   "cell_type": "code",
   "execution_count": 33,
   "id": "c33aeb6f-c877-4097-ace0-82072d8f042b",
   "metadata": {},
   "outputs": [],
   "source": [
    "last_feature = seq[-1]  # shape: (6,)\n",
    "\n",
    "# Convert it to a tensor and reshape so that it matches the model's expected input shape.\n",
    "# Expected shape: (batch_size, seq_length, input_dim)\n",
    "# Here, batch_size = 1 and seq_length = 1.\n",
    "last_feature_tensor = torch.tensor(last_feature, dtype=torch.float32).unsqueeze(0).unsqueeze(0)"
   ]
  },
  {
   "cell_type": "code",
   "execution_count": 34,
   "id": "2010e994-0962-45da-9930-daf867ee2c36",
   "metadata": {},
   "outputs": [
    {
     "name": "stdout",
     "output_type": "stream",
     "text": [
      "Prediction probability for the next day: 0.5639985203742981\n"
     ]
    }
   ],
   "source": [
    "model.eval()\n",
    "with torch.no_grad():\n",
    "    # Pass the last element through the model.\n",
    "    # For our RNN (StockRNN_Sigmoid), the output will have shape (1, 1, 1)\n",
    "    logit = model(last_feature_tensor)\n",
    "    # Apply sigmoid to convert the logit into a probability.\n",
    "    prediction_prob = torch.sigmoid(logit)\n",
    "    # Convert to a Python scalar.\n",
    "    prediction_prob = prediction_prob.item()\n",
    "    \n",
    "print(\"Prediction probability for the next day:\", prediction_prob)"
   ]
  },
  {
   "cell_type": "code",
   "execution_count": null,
   "id": "d7caf526-44ed-4c76-9716-c8622f42b1e4",
   "metadata": {},
   "outputs": [],
   "source": []
  }
 ],
 "metadata": {
  "kernelspec": {
   "display_name": "Python 3 (ipykernel)",
   "language": "python",
   "name": "python3"
  },
  "language_info": {
   "codemirror_mode": {
    "name": "ipython",
    "version": 3
   },
   "file_extension": ".py",
   "mimetype": "text/x-python",
   "name": "python",
   "nbconvert_exporter": "python",
   "pygments_lexer": "ipython3",
   "version": "3.10.0"
  }
 },
 "nbformat": 4,
 "nbformat_minor": 5
}
