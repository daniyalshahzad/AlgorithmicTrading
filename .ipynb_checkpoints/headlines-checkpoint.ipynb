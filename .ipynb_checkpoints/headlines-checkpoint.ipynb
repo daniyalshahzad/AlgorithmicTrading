{
 "cells": [
  {
   "cell_type": "code",
   "execution_count": 1,
   "id": "f1be2149-83b2-4c4a-848c-9148a0a61a53",
   "metadata": {},
   "outputs": [],
   "source": [
    "from ibapi.client import EClient\n",
    "from ibapi.wrapper import EWrapper\n",
    "from ibapi.contract import Contract\n",
    "from ibapi.common import *  # noqa\n",
    "from threading import Thread\n",
    "import time\n",
    "import nest_asyncio\n",
    "nest_asyncio.apply()\n",
    "\n",
    "import re\n",
    "from datetime import datetime, timedelta"
   ]
  },
  {
   "cell_type": "code",
   "execution_count": 2,
   "id": "74802592-2534-460b-9ee3-930fb98f89b2",
   "metadata": {},
   "outputs": [],
   "source": [
    "class IBApi(EWrapper, EClient):\n",
    "    def __init__(self):\n",
    "        EClient.__init__(self, self)\n",
    "        self.headlines = []  # List to store news headlines\n",
    "        self.conId = None  # Store the retrieved conId\n",
    "        self.news_providers = []  # Store available news providers\n",
    "\n",
    "    def contractDetails(self, reqId, contractDetails):\n",
    "        self.conId = contractDetails.contract.conId\n",
    "\n",
    "    def newsProviders(self, newsProviders):\n",
    "        self.news_providers = [provider.code for provider in newsProviders]\n",
    "\n",
    "    def historicalNews(self, reqId: int, time: str, providerCode: str, articleId: str, headline: str):\n",
    "        # Save each headline to the list\n",
    "        self.headlines.append({\n",
    "            \"time\": time,\n",
    "            \"providerCode\": providerCode,\n",
    "            \"articleId\": articleId,\n",
    "            \"headline\": headline\n",
    "    })\n",
    "\n",
    "def run_loop(api):\n",
    "    api.run()"
   ]
  },
  {
   "cell_type": "code",
   "execution_count": 3,
   "id": "1ae77ac1-29cd-4193-8931-bfac63d5882e",
   "metadata": {},
   "outputs": [],
   "source": [
    "## Initialize the IBApi object\n",
    "app = IBApi()\n",
    "\n",
    "# Connect to TWS or IB Gateway\n",
    "app.connect(\"127.0.0.1\", 7497, clientId=1)\n",
    "\n",
    "# Start the API thread\n",
    "api_thread = Thread(target=run_loop, args=(app,), daemon=True)\n",
    "api_thread.start()"
   ]
  },
  {
   "cell_type": "code",
   "execution_count": 4,
   "id": "9429343d-981b-48c4-9c8b-4fc90c5cbd3e",
   "metadata": {},
   "outputs": [
    {
     "name": "stderr",
     "output_type": "stream",
     "text": [
      "ERROR -1 2104 Market data farm connection is OK:usfarm.nj\n",
      "ERROR -1 2104 Market data farm connection is OK:cashfarm\n",
      "ERROR -1 2104 Market data farm connection is OK:usfarm\n",
      "ERROR -1 2106 HMDS data farm connection is OK:euhmds\n",
      "ERROR -1 2106 HMDS data farm connection is OK:fundfarm\n",
      "ERROR -1 2106 HMDS data farm connection is OK:ushmds\n",
      "ERROR -1 2158 Sec-def data farm connection is OK:secdefil\n"
     ]
    }
   ],
   "source": [
    "def get_Data(contract, endDate, historicalNewsParam):\n",
    "\n",
    "    historical_news_format = endDate.strftime(\"%Y-%m-%d %H:%M:%S\") + \".0\"\n",
    "\n",
    "    app.reqContractDetails(1, contract)\n",
    "    time.sleep(2)  # Wait for the conId to be retrieved\n",
    "    if app.conId is None:\n",
    "        raise Exception(\"Failed to retrieve conId for the contract\")\n",
    "\n",
    "    app.reqNewsProviders()\n",
    "    time.sleep(2)  # Wait for news providers to be retrieved\n",
    "    if not app.news_providers:\n",
    "        raise Exception(\"Failed to retrieve news providers\")\n",
    "\n",
    "    news_providers = \"+\".join(app.news_providers)\n",
    "    #print(news_providers)\n",
    "\n",
    "    # Request historical news for the contract\n",
    "    time.sleep(2)  # Wait for connection #Use the startdate, I havent figured how the date range works but we can simply filter out the news later on. :)\n",
    "    app.reqHistoricalNews(1, app.conId, news_providers, historical_news_format, \"\", historicalNewsParam['numberOfHeadlines'], None)  # Fetch the latest 10 news items\n",
    "\n",
    "    # Fetch content for each article\n",
    "    time.sleep(15) # Wait for news to fetch\n",
    "\n",
    "    news_headlines = app.headlines\n",
    "    print(len(news_headlines))\n",
    "    \n",
    "    return news_headlines\n"
   ]
  },
  {
   "cell_type": "code",
   "execution_count": 5,
   "id": "364abe72-a30b-4851-8a07-7cd1ebd4c8c6",
   "metadata": {},
   "outputs": [],
   "source": [
    "contract = Contract()\n",
    "contract.symbol = \"AMD\"\n",
    "contract.secType = \"STK\"\n",
    "contract.exchange = \"SMART\"\n",
    "contract.currency = \"USD\"\n",
    "\n",
    "endDate = datetime.today().replace(hour=0, minute=0, second=0, microsecond=0)\n",
    "endDate = endDate - timedelta(minutes=15)\n",
    "#datetime(2023, 5, 8, 21, 44, 0)"
   ]
  },
  {
   "cell_type": "code",
   "execution_count": 6,
   "id": "028b507e-a964-4967-badb-784f1ab160bd",
   "metadata": {},
   "outputs": [],
   "source": [
    "\n",
    "historicalNewsParam = {\n",
    "    'numberOfHeadlines' : 300 #300 being the limit for one call\n",
    "}"
   ]
  },
  {
   "cell_type": "code",
   "execution_count": 13,
   "id": "98786481-539b-471c-b193-25e09631fe25",
   "metadata": {},
   "outputs": [],
   "source": [
    "def getAllHeadlines(contract, historicalNewsParam):\n",
    "\n",
    "    endDate = datetime.today().replace(hour=0, minute=0, second=0, microsecond=0)\n",
    "    endDate = endDate - timedelta(minutes=15)\n",
    "    \n",
    "    final_list = []\n",
    "    continue_flag = 1\n",
    "    \n",
    "    prev_a = 0\n",
    "    while continue_flag == 1:\n",
    "        a = get_Data(contract, endDate, historicalNewsParam)\n",
    "        #print(\"HAHA\", len(a) - prev_a)\n",
    "        \n",
    "        if len(a) - prev_a <= 1:\n",
    "            break\n",
    "        else:\n",
    "            final_list += a\n",
    "            endDate = datetime.strptime(a[-1]['time'], '%Y-%m-%d %H:%M:%S.%f') + timedelta(days=1)\n",
    "            prev_a = len(a)\n",
    "\n",
    "    return final_list\n",
    "\n"
   ]
  },
  {
   "cell_type": "code",
   "execution_count": 15,
   "id": "aae958d8-e7b0-4bda-af31-7ea51e6bff35",
   "metadata": {},
   "outputs": [
    {
     "name": "stdout",
     "output_type": "stream",
     "text": [
      "300\n",
      "453\n",
      "454\n"
     ]
    }
   ],
   "source": [
    "headlines = getAllHeadlines(contract, historicalNewsParam)"
   ]
  },
  {
   "cell_type": "code",
   "execution_count": 21,
   "id": "64fd5ba8-e55e-448c-aaac-4c62afa0a63d",
   "metadata": {},
   "outputs": [
    {
     "data": {
      "text/plain": [
       "{'time': '2022-02-02 15:02:57.0',\n",
       " 'providerCode': 'BRFG',\n",
       " 'articleId': 'BRFG$10d21fb1',\n",
       " 'headline': '{A:800015:K:1.00:C:1.0:L:en}Advanced Micro navigates a supply constrained environment to deliver excellent Q4 results'}"
      ]
     },
     "execution_count": 21,
     "metadata": {},
     "output_type": "execute_result"
    }
   ],
   "source": [
    "headlines[-1]"
   ]
  },
  {
   "cell_type": "code",
   "execution_count": 25,
   "id": "c1ac9b26-c0b5-4661-a621-e5af25935116",
   "metadata": {},
   "outputs": [],
   "source": [
    "app.disconnect()"
   ]
  },
  {
   "cell_type": "code",
   "execution_count": null,
   "id": "63739512-486a-4e53-9df0-717a402a89b8",
   "metadata": {},
   "outputs": [],
   "source": []
  }
 ],
 "metadata": {
  "kernelspec": {
   "display_name": "Python 3 (ipykernel)",
   "language": "python",
   "name": "python3"
  },
  "language_info": {
   "codemirror_mode": {
    "name": "ipython",
    "version": 3
   },
   "file_extension": ".py",
   "mimetype": "text/x-python",
   "name": "python",
   "nbconvert_exporter": "python",
   "pygments_lexer": "ipython3",
   "version": "3.12.4"
  }
 },
 "nbformat": 4,
 "nbformat_minor": 5
}
