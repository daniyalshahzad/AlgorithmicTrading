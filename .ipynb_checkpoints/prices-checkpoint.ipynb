{
 "cells": [
  {
   "cell_type": "code",
   "execution_count": 154,
   "id": "f1be2149-83b2-4c4a-848c-9148a0a61a53",
   "metadata": {},
   "outputs": [],
   "source": [
    "from ibapi.client import EClient\n",
    "from ibapi.wrapper import EWrapper\n",
    "from ibapi.contract import Contract\n",
    "from ibapi.common import *  # noqa\n",
    "from threading import Thread\n",
    "import time\n",
    "import nest_asyncio\n",
    "nest_asyncio.apply()\n",
    "\n",
    "import pandas as pd\n",
    "import re\n",
    "from datetime import datetime, timedelta\n",
    "import random\n",
    "import json"
   ]
  },
  {
   "cell_type": "code",
   "execution_count": 2,
   "id": "74802592-2534-460b-9ee3-930fb98f89b2",
   "metadata": {},
   "outputs": [],
   "source": [
    "class IBApi(EWrapper, EClient):\n",
    "    def __init__(self):\n",
    "        EClient.__init__(self, self)\n",
    "        self.price_data = []\n",
    "        self.conId = None  # Store the retrieved conId\n",
    "\n",
    "    def contractDetails(self, reqId, contractDetails):\n",
    "        self.conId = contractDetails.contract.conId\n",
    "\n",
    "    def historicalData(self, reqId: int, bar):\n",
    "        self.price_data.append({\n",
    "            \"time\": bar.date,\n",
    "            \"open\": bar.open,\n",
    "            \"high\": bar.high,\n",
    "            \"low\": bar.low,\n",
    "            \"close\": bar.close,\n",
    "            \"volume\": bar.volume\n",
    "        })\n",
    "        \n",
    "\n",
    "def run_loop(api):\n",
    "    api.run()"
   ]
  },
  {
   "cell_type": "code",
   "execution_count": 3,
   "id": "1ae77ac1-29cd-4193-8931-bfac63d5882e",
   "metadata": {},
   "outputs": [
    {
     "name": "stderr",
     "output_type": "stream",
     "text": [
      "ERROR -1 2104 Market data farm connection is OK:usfarm.nj\n",
      "ERROR -1 2104 Market data farm connection is OK:cashfarm\n",
      "ERROR -1 2104 Market data farm connection is OK:usfarm\n",
      "ERROR -1 2106 HMDS data farm connection is OK:ushmds\n",
      "ERROR -1 2158 Sec-def data farm connection is OK:secdefil\n",
      "ERROR 1 322 Error processing request.-'bK' : cause - Duplicate ticker ID for API historical data query\n",
      "ERROR -1 2105 HMDS data farm connection is broken:ushmds\n",
      "ERROR -1 2106 HMDS data farm connection is OK:ushmds\n",
      "ERROR 1 322 Error processing request.-'bK' : cause - Duplicate ticker ID for API historical data query\n",
      "ERROR -1 2103 Market data farm connection is broken:usfarm.nj\n",
      "ERROR -1 2104 Market data farm connection is OK:usfarm.nj\n",
      "ERROR -1 2103 Market data farm connection is broken:usfarm.nj\n",
      "ERROR -1 2104 Market data farm connection is OK:usfarm.nj\n",
      "ERROR -1 2103 Market data farm connection is broken:usfarm.nj\n",
      "ERROR -1 2104 Market data farm connection is OK:usfarm.nj\n",
      "ERROR -1 2105 HMDS data farm connection is broken:ushmds\n",
      "ERROR -1 2106 HMDS data farm connection is OK:ushmds\n",
      "ERROR -1 2103 Market data farm connection is broken:usfarm.nj\n",
      "ERROR -1 2104 Market data farm connection is OK:usfarm.nj\n",
      "ERROR -1 2103 Market data farm connection is broken:cashfarm\n",
      "ERROR -1 2104 Market data farm connection is OK:cashfarm\n",
      "ERROR -1 2103 Market data farm connection is broken:usfarm\n",
      "ERROR -1 2104 Market data farm connection is OK:usfarm\n",
      "ERROR -1 2157 Sec-def data farm connection is broken:secdefil\n",
      "ERROR -1 2158 Sec-def data farm connection is OK:secdefil\n"
     ]
    }
   ],
   "source": [
    "## Initialize the IBApi object\n",
    "app = IBApi()\n",
    "\n",
    "# Connect to TWS or IB Gateway\n",
    "app.connect(\"127.0.0.1\", 7497, clientId=1)\n",
    "\n",
    "# Start the API thread\n",
    "api_thread = Thread(target=run_loop, args=(app,), daemon=True)\n",
    "api_thread.start()"
   ]
  },
  {
   "cell_type": "code",
   "execution_count": 126,
   "id": "9429343d-981b-48c4-9c8b-4fc90c5cbd3e",
   "metadata": {},
   "outputs": [],
   "source": [
    "def get_Data(contract, endDate, historicalDataParams):\n",
    "\n",
    "    app.price_data = []  # Clear previous data\n",
    "\n",
    "\n",
    "    historical_data_format = endDate.strftime(\"%Y%m%d %H:%M:%S\") + \" US/Eastern\"\n",
    "    \n",
    "    app.reqContractDetails(1, contract)\n",
    "    time.sleep(2)  # Wait for the conId to be retrieved\n",
    "    if app.conId is None:\n",
    "        raise Exception(\"Failed to retrieve conId for the contract\")\n",
    "    else:\n",
    "        print('Contract ID: ', app.conId)\n",
    "\n",
    "    print(historicalDataParams['historicalDataDuration'], historicalDataParams['frequency'])\n",
    "\n",
    "    app.reqHistoricalData(\n",
    "        reqId=1,\n",
    "        contract=historicalDataParams['contract'],\n",
    "        endDateTime=historical_data_format,  # End of the day in UTC\n",
    "        durationStr=historicalDataParams['historicalDataDuration'],\n",
    "        barSizeSetting=historicalDataParams['frequency'],             # 2-hour bars\n",
    "        whatToShow=\"MIDPOINT\",                # Midpoint prices\n",
    "        useRTH=1,                             # Regular Trading Hours only\n",
    "        formatDate=1,\n",
    "        keepUpToDate=False,\n",
    "        chartOptions=None                     # No special chart options\n",
    "    )\n",
    "\n",
    "    # Wait for news to fetch\n",
    "    time.sleep(5)\n",
    "    \n",
    "    # Save headlines and article content to variables\n",
    "    #news_headlines = clean_news_headlines(app.headlines)\n",
    "    prices = app.price_data\n",
    "\n",
    "    return prices\n"
   ]
  },
  {
   "cell_type": "code",
   "execution_count": 119,
   "id": "028b507e-a964-4967-badb-784f1ab160bd",
   "metadata": {},
   "outputs": [],
   "source": [
    "historicalDataParams = {\n",
    "    'contract': contract,\n",
    "    'historicalDataDuration': '1 Y',  # One week\n",
    "    'frequency': '2 hours',\n",
    "}"
   ]
  },
  {
   "cell_type": "code",
   "execution_count": 120,
   "id": "554a80a2-655f-4375-8468-52e1d758ce37",
   "metadata": {},
   "outputs": [
    {
     "data": {
      "text/plain": [
       "'20240202 10:00:00 US/Eastern'"
      ]
     },
     "execution_count": 120,
     "metadata": {},
     "output_type": "execute_result"
    }
   ],
   "source": [
    "endDate.strftime(\"%Y%m%d %H:%M:%S\") + \" US/Eastern\""
   ]
  },
  {
   "cell_type": "code",
   "execution_count": 135,
   "id": "604a9a61-e4f9-472c-b21d-daa4824721f4",
   "metadata": {},
   "outputs": [],
   "source": [
    "def getAllPrices(contract, historicalDataParams):\n",
    "\n",
    "    endDate = datetime.today().replace(hour=0, minute=0, second=0, microsecond=0)\n",
    "    \n",
    "    final_list = []\n",
    "    total_years = 3\n",
    "    for _ in range(total_years):\n",
    "        \n",
    "        a = get_Data(contract, endDate, historicalDataParams)\n",
    "        time_str = a[0]['time']\n",
    "        endDate =  datetime.strptime(time_str, '%Y%m%d  %H:%M:%S').replace(minute=0, second=0, microsecond=0) + timedelta(hours=1)\n",
    "        print(endDate.strftime(\"%Y%m%d %H:%M:%S\") + \" US/Eastern\")\n",
    "        final_list += a\n",
    "        \n",
    "    return final_list"
   ]
  },
  {
   "cell_type": "code",
   "execution_count": 136,
   "id": "9bf3ae96-7ae6-420b-b619-50759bf9e94f",
   "metadata": {},
   "outputs": [
    {
     "name": "stdout",
     "output_type": "stream",
     "text": [
      "1 Y 2 hours\n",
      "20240202 10:00:00 US/Eastern\n",
      "1 Y 2 hours\n",
      "20230203 10:00:00 US/Eastern\n",
      "1 Y 2 hours\n",
      "20220204 10:00:00 US/Eastern\n"
     ]
    }
   ],
   "source": [
    "f = getAllPrices(contract, historicalDataParams)"
   ]
  },
  {
   "cell_type": "code",
   "execution_count": 142,
   "id": "901000e1-e198-417a-a317-fbcc18a91da4",
   "metadata": {},
   "outputs": [],
   "source": [
    "df = pd.DataFrame(f)"
   ]
  },
  {
   "cell_type": "code",
   "execution_count": 144,
   "id": "e27c50bc-4461-4d42-ab52-d0a470278b90",
   "metadata": {},
   "outputs": [
    {
     "data": {
      "text/html": [
       "<div>\n",
       "<style scoped>\n",
       "    .dataframe tbody tr th:only-of-type {\n",
       "        vertical-align: middle;\n",
       "    }\n",
       "\n",
       "    .dataframe tbody tr th {\n",
       "        vertical-align: top;\n",
       "    }\n",
       "\n",
       "    .dataframe thead th {\n",
       "        text-align: right;\n",
       "    }\n",
       "</style>\n",
       "<table border=\"1\" class=\"dataframe\">\n",
       "  <thead>\n",
       "    <tr style=\"text-align: right;\">\n",
       "      <th></th>\n",
       "      <th>time</th>\n",
       "      <th>open</th>\n",
       "      <th>high</th>\n",
       "      <th>low</th>\n",
       "      <th>close</th>\n",
       "      <th>volume</th>\n",
       "    </tr>\n",
       "  </thead>\n",
       "  <tbody>\n",
       "    <tr>\n",
       "      <th>1993</th>\n",
       "      <td>20220204  09:30:00</td>\n",
       "      <td>120.37</td>\n",
       "      <td>123.55</td>\n",
       "      <td>118.57</td>\n",
       "      <td>121.31</td>\n",
       "      <td>-1</td>\n",
       "    </tr>\n",
       "    <tr>\n",
       "      <th>1994</th>\n",
       "      <td>20220204  11:00:00</td>\n",
       "      <td>121.31</td>\n",
       "      <td>122.36</td>\n",
       "      <td>119.83</td>\n",
       "      <td>121.81</td>\n",
       "      <td>-1</td>\n",
       "    </tr>\n",
       "    <tr>\n",
       "      <th>1995</th>\n",
       "      <td>20220204  13:00:00</td>\n",
       "      <td>121.81</td>\n",
       "      <td>124.46</td>\n",
       "      <td>121.80</td>\n",
       "      <td>124.42</td>\n",
       "      <td>-1</td>\n",
       "    </tr>\n",
       "    <tr>\n",
       "      <th>1996</th>\n",
       "      <td>20220204  15:00:00</td>\n",
       "      <td>124.42</td>\n",
       "      <td>124.97</td>\n",
       "      <td>123.22</td>\n",
       "      <td>123.58</td>\n",
       "      <td>-1</td>\n",
       "    </tr>\n",
       "    <tr>\n",
       "      <th>1997</th>\n",
       "      <td>20220207  09:30:00</td>\n",
       "      <td>123.67</td>\n",
       "      <td>127.30</td>\n",
       "      <td>122.77</td>\n",
       "      <td>127.09</td>\n",
       "      <td>-1</td>\n",
       "    </tr>\n",
       "    <tr>\n",
       "      <th>...</th>\n",
       "      <td>...</td>\n",
       "      <td>...</td>\n",
       "      <td>...</td>\n",
       "      <td>...</td>\n",
       "      <td>...</td>\n",
       "      <td>...</td>\n",
       "    </tr>\n",
       "    <tr>\n",
       "      <th>990</th>\n",
       "      <td>20250130  15:00:00</td>\n",
       "      <td>118.81</td>\n",
       "      <td>119.10</td>\n",
       "      <td>117.84</td>\n",
       "      <td>118.88</td>\n",
       "      <td>-1</td>\n",
       "    </tr>\n",
       "    <tr>\n",
       "      <th>991</th>\n",
       "      <td>20250131  09:30:00</td>\n",
       "      <td>119.10</td>\n",
       "      <td>119.57</td>\n",
       "      <td>117.54</td>\n",
       "      <td>118.88</td>\n",
       "      <td>-1</td>\n",
       "    </tr>\n",
       "    <tr>\n",
       "      <th>992</th>\n",
       "      <td>20250131  11:00:00</td>\n",
       "      <td>118.88</td>\n",
       "      <td>119.38</td>\n",
       "      <td>117.24</td>\n",
       "      <td>117.86</td>\n",
       "      <td>-1</td>\n",
       "    </tr>\n",
       "    <tr>\n",
       "      <th>993</th>\n",
       "      <td>20250131  13:00:00</td>\n",
       "      <td>117.86</td>\n",
       "      <td>118.26</td>\n",
       "      <td>115.58</td>\n",
       "      <td>116.37</td>\n",
       "      <td>-1</td>\n",
       "    </tr>\n",
       "    <tr>\n",
       "      <th>994</th>\n",
       "      <td>20250131  15:00:00</td>\n",
       "      <td>116.37</td>\n",
       "      <td>116.41</td>\n",
       "      <td>115.33</td>\n",
       "      <td>115.90</td>\n",
       "      <td>-1</td>\n",
       "    </tr>\n",
       "  </tbody>\n",
       "</table>\n",
       "<p>2992 rows × 6 columns</p>\n",
       "</div>"
      ],
      "text/plain": [
       "                    time    open    high     low   close  volume\n",
       "1993  20220204  09:30:00  120.37  123.55  118.57  121.31      -1\n",
       "1994  20220204  11:00:00  121.31  122.36  119.83  121.81      -1\n",
       "1995  20220204  13:00:00  121.81  124.46  121.80  124.42      -1\n",
       "1996  20220204  15:00:00  124.42  124.97  123.22  123.58      -1\n",
       "1997  20220207  09:30:00  123.67  127.30  122.77  127.09      -1\n",
       "...                  ...     ...     ...     ...     ...     ...\n",
       "990   20250130  15:00:00  118.81  119.10  117.84  118.88      -1\n",
       "991   20250131  09:30:00  119.10  119.57  117.54  118.88      -1\n",
       "992   20250131  11:00:00  118.88  119.38  117.24  117.86      -1\n",
       "993   20250131  13:00:00  117.86  118.26  115.58  116.37      -1\n",
       "994   20250131  15:00:00  116.37  116.41  115.33  115.90      -1\n",
       "\n",
       "[2992 rows x 6 columns]"
      ]
     },
     "execution_count": 144,
     "metadata": {},
     "output_type": "execute_result"
    }
   ],
   "source": [
    "df.sort_values(by='time')"
   ]
  },
  {
   "cell_type": "code",
   "execution_count": null,
   "id": "9fa28965-c165-4bf3-858e-bc3c511e71e8",
   "metadata": {},
   "outputs": [],
   "source": []
  },
  {
   "cell_type": "code",
   "execution_count": 150,
   "id": "d65f3835-de05-4aeb-bbd7-5d1a8563ad34",
   "metadata": {},
   "outputs": [],
   "source": [
    "#Implementing this for all russell 1000 stocks"
   ]
  },
  {
   "cell_type": "code",
   "execution_count": 151,
   "id": "b0b00531-28c6-48e9-9f76-5a5ad0f76da0",
   "metadata": {},
   "outputs": [],
   "source": [
    "stocks = pd.read_csv(\"russell-1000-index-12-19-2024.csv\")\n",
    "stocks['Symbol'] = stocks['Symbol'].str.replace('.', ' ')"
   ]
  },
  {
   "cell_type": "code",
   "execution_count": 152,
   "id": "89447185-4e05-4822-a846-ee977bb01ad6",
   "metadata": {},
   "outputs": [],
   "source": [
    "random.seed(69)\n",
    "sample_size = 3\n",
    "stocks = random.sample(stocks['Symbol'].tolist(), sample_size)"
   ]
  },
  {
   "cell_type": "code",
   "execution_count": 155,
   "id": "0b593cff-cc80-4438-9fdd-1a5485966a59",
   "metadata": {},
   "outputs": [
    {
     "name": "stdout",
     "output_type": "stream",
     "text": [
      "1 Y 2 hours\n",
      "20240202 10:00:00 US/Eastern\n",
      "1 Y 2 hours\n",
      "20230203 10:00:00 US/Eastern\n",
      "1 Y 2 hours\n",
      "20220204 10:00:00 US/Eastern\n",
      "1 Y 2 hours\n",
      "20240202 10:00:00 US/Eastern\n",
      "1 Y 2 hours\n",
      "20230203 10:00:00 US/Eastern\n",
      "1 Y 2 hours\n",
      "20220204 10:00:00 US/Eastern\n",
      "1 Y 2 hours\n",
      "20240202 10:00:00 US/Eastern\n",
      "1 Y 2 hours\n",
      "20230203 10:00:00 US/Eastern\n",
      "1 Y 2 hours\n",
      "20220204 10:00:00 US/Eastern\n"
     ]
    }
   ],
   "source": [
    "data = {}\n",
    "\n",
    "for stock in stocks:\n",
    "\n",
    "    #Make a Contract\n",
    "    contract = Contract()\n",
    "    contract.symbol = stock\n",
    "    contract.secType = \"STK\"\n",
    "    contract.exchange = \"SMART\"\n",
    "    contract.currency = \"USD\"\n",
    "    \n",
    "    current_stock_price = getAllPrices(contract, historicalDataParams)\n",
    "    data[stock] = current_stock_price\n",
    "\n",
    "    # Save the current state of data to a JSON file\n",
    "    with open(\"prices.json\", \"w\") as f: \n",
    "        json.dump(data, f, indent=4)"
   ]
  },
  {
   "cell_type": "code",
   "execution_count": 105,
   "id": "6a53ec54-a52e-415b-9b6c-b8b0cc843819",
   "metadata": {},
   "outputs": [],
   "source": [
    "app.disconnect()"
   ]
  },
  {
   "cell_type": "code",
   "execution_count": null,
   "id": "b4197904-1e1a-4e53-bb6f-c88bf2d7ee53",
   "metadata": {},
   "outputs": [],
   "source": []
  }
 ],
 "metadata": {
  "kernelspec": {
   "display_name": "Python 3 (ipykernel)",
   "language": "python",
   "name": "python3"
  },
  "language_info": {
   "codemirror_mode": {
    "name": "ipython",
    "version": 3
   },
   "file_extension": ".py",
   "mimetype": "text/x-python",
   "name": "python",
   "nbconvert_exporter": "python",
   "pygments_lexer": "ipython3",
   "version": "3.10.0"
  }
 },
 "nbformat": 4,
 "nbformat_minor": 5
}
