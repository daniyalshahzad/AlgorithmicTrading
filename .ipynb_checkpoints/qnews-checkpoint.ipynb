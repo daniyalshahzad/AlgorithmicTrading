{
 "cells": [
  {
   "cell_type": "code",
   "execution_count": 13,
   "id": "f1be2149-83b2-4c4a-848c-9148a0a61a53",
   "metadata": {},
   "outputs": [],
   "source": [
    "from ibapi.client import EClient\n",
    "from ibapi.wrapper import EWrapper\n",
    "from ibapi.contract import Contract\n",
    "from ibapi.common import *  # noqa\n",
    "from threading import Thread\n",
    "import time\n",
    "import nest_asyncio\n",
    "nest_asyncio.apply()\n",
    "\n",
    "import re\n",
    "from datetime import datetime, timedelta"
   ]
  },
  {
   "cell_type": "code",
   "execution_count": 14,
   "id": "74802592-2534-460b-9ee3-930fb98f89b2",
   "metadata": {},
   "outputs": [],
   "source": [
    "class IBApi(EWrapper, EClient):\n",
    "    def __init__(self):\n",
    "        EClient.__init__(self, self)\n",
    "        self.headlines = []  # List to store news headlines\n",
    "        self.price_data = []\n",
    "        self.conId = None  # Store the retrieved conId\n",
    "        self.news_providers = []  # Store available news providers\n",
    "\n",
    "    def contractDetails(self, reqId, contractDetails):\n",
    "        self.conId = contractDetails.contract.conId\n",
    "\n",
    "    def newsProviders(self, newsProviders):\n",
    "        self.news_providers = [provider.code for provider in newsProviders]\n",
    "        print(f\"Available News Providers: {', '.join(self.news_providers)}\")\n",
    "\n",
    "    def historicalData(self, reqId: int, bar):\n",
    "        print(f\"Time: {bar.date}, Open: {bar.open}, High: {bar.high}, Low: {bar.low}, Close: {bar.close}, Volume: {bar.volume}\")\n",
    "        self.price_data.append({\n",
    "            \"time\": bar.date,\n",
    "            \"open\": bar.open,\n",
    "            \"high\": bar.high,\n",
    "            \"low\": bar.low,\n",
    "            \"close\": bar.close,\n",
    "            \"volume\": bar.volume\n",
    "        })\n",
    "\n",
    "    def historicalNews(self, reqId: int, time: str, providerCode: str, articleId: str, headline: str):\n",
    "        # Save each headline to the list\n",
    "        self.headlines.append({\n",
    "            \"time\": time,\n",
    "            \"providerCode\": providerCode,\n",
    "            \"articleId\": articleId,\n",
    "            \"headline\": headline\n",
    "    })\n",
    "\n",
    "def run_loop(api):\n",
    "    api.run()\n",
    "\n",
    "def clean_news_headlines(news_headlines):\n",
    "    ''' Helper '''\n",
    "    \n",
    "    query = []\n",
    "    for news in news_headlines:\n",
    "        cleaned = re.sub(r'\\{.*?\\}', '', news['headline']) + '- ' + news['time']\n",
    "        query.append(cleaned)\n",
    "\n",
    "    return query"
   ]
  },
  {
   "cell_type": "code",
   "execution_count": 15,
   "id": "f4dc9c65-11ab-4751-95ac-b4f4a5f2a5cc",
   "metadata": {},
   "outputs": [
    {
     "name": "stderr",
     "output_type": "stream",
     "text": [
      "ERROR -1 2104 Market data farm connection is OK:usfarm.nj\n",
      "ERROR -1 2104 Market data farm connection is OK:cashfarm\n",
      "ERROR -1 2104 Market data farm connection is OK:usfarm\n",
      "ERROR -1 2106 HMDS data farm connection is OK:euhmds\n",
      "ERROR -1 2106 HMDS data farm connection is OK:fundfarm\n",
      "ERROR -1 2106 HMDS data farm connection is OK:ushmds\n",
      "ERROR -1 2158 Sec-def data farm connection is OK:secdefil\n"
     ]
    },
    {
     "name": "stdout",
     "output_type": "stream",
     "text": [
      "Available News Providers: BRFG, BRFUPDN, DJ-N, DJ-RTA, DJ-RTE, DJ-RTG, DJ-RTPRO, DJNL\n",
      "Time: 20241211  09:30:00, Open: 128.66, High: 129.37, Low: 126.22, Close: 127.02, Volume: -1\n",
      "Time: 20241211  11:00:00, Open: 127.02, High: 129.24, Low: 126.99, Close: 128.6, Volume: -1\n",
      "Time: 20241211  13:00:00, Open: 128.6, High: 130.85, Low: 128.57, Close: 130.23, Volume: -1\n",
      "Time: 20241211  15:00:00, Open: 130.23, High: 131.21, Low: 130.07, Close: 130.16, Volume: -1\n"
     ]
    }
   ],
   "source": [
    "# Initialize the IBApi object\n",
    "app = IBApi()\n",
    "\n",
    "# Connect to TWS or IB Gateway\n",
    "app.connect(\"127.0.0.1\", 7497, clientId=1)\n",
    "\n",
    "# Start the API thread\n",
    "api_thread = Thread(target=run_loop, args=(app,), daemon=True)\n",
    "api_thread.start()"
   ]
  },
  {
   "cell_type": "code",
   "execution_count": 16,
   "id": "9429343d-981b-48c4-9c8b-4fc90c5cbd3e",
   "metadata": {},
   "outputs": [],
   "source": [
    "def get_Data(contract, endDate, historicalDataParams, historicalNewsParam):\n",
    "\n",
    "    historical_data_format = endDate.strftime(\"%Y%m%d %H:%M:%S\") + \" US/Eastern\"\n",
    "    historical_news_format = endDate.strftime(\"%Y-%m-%d %H:%M:%S\") + \".0\"\n",
    "\n",
    "    app.reqContractDetails(1, contract)\n",
    "    time.sleep(2)  # Wait for the conId to be retrieved\n",
    "    if app.conId is None:\n",
    "        raise Exception(\"Failed to retrieve conId for the contract\")\n",
    "\n",
    "    app.reqNewsProviders()\n",
    "    time.sleep(2)  # Wait for news providers to be retrieved\n",
    "    if not app.news_providers:\n",
    "        raise Exception(\"Failed to retrieve news providers\")\n",
    "\n",
    "    news_providers = \"+\".join(app.news_providers)\n",
    "    \n",
    "    # app.reqHistoricalData(\n",
    "    #     reqId=1,\n",
    "    #     contract=historicalDataParams['contract'],\n",
    "    #     endDateTime=historical_data_format,  # End of the day in UTC\n",
    "    #     durationStr=\"1 D\",                    # 1 day duration\n",
    "    #     barSizeSetting=\"2 hours\",             # 2-hour bars\n",
    "    #     whatToShow=\"MIDPOINT\",                # Midpoint prices\n",
    "    #     useRTH=1,                             # Regular Trading Hours only\n",
    "    #     formatDate=1,\n",
    "    #     keepUpToDate=False,\n",
    "    #     chartOptions=None                     # No special chart options\n",
    "    # )\n",
    "\n",
    "    app.reqHistoricalData(\n",
    "        reqId=1,\n",
    "        contract=historicalDataParams['contract'],\n",
    "        endDateTime=historical_data_format,  # End of the day in UTC\n",
    "        durationStr=historicalDataParams['historicalDataDuration'],\n",
    "        barSizeSetting=historicalDataParams['contract'],             # 2-hour bars\n",
    "        whatToShow=\"MIDPOINT\",                # Midpoint prices\n",
    "        useRTH=1,                             # Regular Trading Hours only\n",
    "        formatDate=1,\n",
    "        keepUpToDate=False,\n",
    "        chartOptions=None                     # No special chart options\n",
    "    )\n",
    "    \n",
    "    # Request historical news for the contract\n",
    "    time.sleep(2)  # Wait for connection #Use the startdate, I havent figured how the date range works but we can simply filter out the news later on. :)\n",
    "    app.reqHistoricalNews(1, app.conId, news_providers, historical_news_format, \"\", historicalNewsParam['numberOfHeadlines'], None)  # Fetch the latest 10 news items\n",
    "\n",
    "    \n",
    "    # Wait for news to fetch\n",
    "    time.sleep(5)\n",
    "    \n",
    "    # Save headlines to a variable\n",
    "    news_headlines = clean_news_headlines(app.headlines)\n",
    "    prices = app.price_data\n",
    "    app.disconnect()\n",
    "\n",
    "    return prices, news_headlines"
   ]
  },
  {
   "cell_type": "code",
   "execution_count": 22,
   "id": "364abe72-a30b-4851-8a07-7cd1ebd4c8c6",
   "metadata": {},
   "outputs": [],
   "source": [
    "contract = Contract()\n",
    "contract.symbol = \"AMD\"\n",
    "contract.secType = \"STK\"\n",
    "contract.exchange = \"SMART\"\n",
    "contract.currency = \"USD\"\n",
    "\n",
    "endDate = datetime(2024, 12, 11, 21, 44, 0)"
   ]
  },
  {
   "cell_type": "code",
   "execution_count": 23,
   "id": "028b507e-a964-4967-badb-784f1ab160bd",
   "metadata": {},
   "outputs": [],
   "source": [
    "historicalDataParams = {\n",
    "    'contract': contract,\n",
    "    'historicalDataDuration': '1 W',  # One week\n",
    "    'frequency': '2 hours',\n",
    "}\n",
    "\n",
    "historicalNewsParam = {\n",
    "    'numberOfHeadlines' : 10\n",
    "}\n",
    "    \n",
    "\n"
   ]
  },
  {
   "cell_type": "code",
   "execution_count": 19,
   "id": "344058f1-f430-4d93-8c93-8c5eab3ea4b2",
   "metadata": {},
   "outputs": [
    {
     "name": "stdout",
     "output_type": "stream",
     "text": [
      "BRFG+BRFUPDN+DJ-N+DJ-RTA+DJ-RTE+DJ-RTG+DJ-RTPRO+DJNL\n"
     ]
    }
   ],
   "source": [
    "a, b = get_Data(contract)"
   ]
  },
  {
   "cell_type": "code",
   "execution_count": 9,
   "id": "b33566db-58b6-40aa-9e01-b480c09841e6",
   "metadata": {},
   "outputs": [],
   "source": [
    "app.disconnect()"
   ]
  },
  {
   "cell_type": "code",
   "execution_count": null,
   "id": "2d59a203-af5b-43ec-95db-00881ac7266a",
   "metadata": {},
   "outputs": [],
   "source": []
  },
  {
   "cell_type": "code",
   "execution_count": null,
   "id": "09e68811-913c-4191-b395-6b251e05c2fe",
   "metadata": {},
   "outputs": [],
   "source": []
  },
  {
   "cell_type": "code",
   "execution_count": null,
   "id": "0b528bbd-bb2e-40f8-8478-ce66dd20c103",
   "metadata": {},
   "outputs": [],
   "source": []
  }
 ],
 "metadata": {
  "kernelspec": {
   "display_name": "Python 3 (ipykernel)",
   "language": "python",
   "name": "python3"
  },
  "language_info": {
   "codemirror_mode": {
    "name": "ipython",
    "version": 3
   },
   "file_extension": ".py",
   "mimetype": "text/x-python",
   "name": "python",
   "nbconvert_exporter": "python",
   "pygments_lexer": "ipython3",
   "version": "3.10.0"
  }
 },
 "nbformat": 4,
 "nbformat_minor": 5
}
