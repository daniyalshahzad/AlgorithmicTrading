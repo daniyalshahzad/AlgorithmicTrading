from ibapi.client import EClient
from ibapi.wrapper import EWrapper
from ibapi.contract import Contract
from ibapi.common import *  # noqa
from threading import Thread
import time
import nest_asyncio
nest_asyncio.apply()

import re
from datetime import datetime, timedelta


class IBApi(EWrapper, EClient):
    def __init__(self):
        EClient.__init__(self, self)
        self.headlines = []  # List to store news headlines
        self.articles = {}  # Dictionary to store article content
        self.price_data = []
        self.conId = None  # Store the retrieved conId
        self.news_providers = []  # Store available news providers

    def contractDetails(self, reqId, contractDetails):
        self.conId = contractDetails.contract.conId

    def newsProviders(self, newsProviders):
        self.news_providers = [provider.code for provider in newsProviders]

    def historicalData(self, reqId: int, bar):
        self.price_data.append({
            "time": bar.date,
            "open": bar.open,
            "high": bar.high,
            "low": bar.low,
            "close": bar.close,
            "volume": bar.volume
        })

    def historicalNews(self, reqId: int, time: str, providerCode: str, articleId: str, headline: str):
        # Save each headline to the list
        self.headlines.append({
            "time": time,
            "providerCode": providerCode,
            "articleId": articleId,
            "headline": headline
    })

    def newsArticle(self, reqId: int, articleType: int, articleText: str):
        # Save the article content to the dictionary
        # print(f"Article Text (Plain Text or HTML): {articleText}")
        self.articles[reqId] = articleText
        #print("requestId: ", reqId, "articleType: ", articleType, "articleText: ", articleText)

def run_loop(api):
    api.run()

def clean_news_headlines(news_headlines):
    ''' Helper '''
    
    query = []
    #print(news_headlines)
    for news in news_headlines:
        cleaned = re.sub(r'\{.*?\}', '', news['headline']) + '- ' + news['time']
        query.append(cleaned)

    return query


## Initialize the IBApi object
app = IBApi()

# Connect to TWS or IB Gateway
app.connect("127.0.0.1", 7497, clientId=1)

# Start the API thread
api_thread = Thread(target=run_loop, args=(app,), daemon=True)
api_thread.start()


def get_Data(contract, endDate, historicalDataParams, historicalNewsParam):

    historical_data_format = endDate.strftime("%Y%m%d %H:%M:%S") + " US/Eastern"
    historical_news_format = endDate.strftime("%Y-%m-%d %H:%M:%S") + ".0"

    app.reqContractDetails(1, contract)
    time.sleep(2)  # Wait for the conId to be retrieved
    if app.conId is None:
        raise Exception("Failed to retrieve conId for the contract")

    app.reqNewsProviders()
    time.sleep(2)  # Wait for news providers to be retrieved
    if not app.news_providers:
        raise Exception("Failed to retrieve news providers")

    news_providers = "+".join(app.news_providers)
    #print(news_providers)

    app.reqHistoricalData(
        reqId=1,
        contract=historicalDataParams['contract'],
        endDateTime=historical_data_format,  # End of the day in UTC
        durationStr=historicalDataParams['historicalDataDuration'],
        barSizeSetting=historicalDataParams['frequency'],             # 2-hour bars
        whatToShow="MIDPOINT",                # Midpoint prices
        useRTH=1,                             # Regular Trading Hours only
        formatDate=1,
        keepUpToDate=False,
        chartOptions=None                     # No special chart options
    )
    
    # Request historical news for the contract
    time.sleep(2)  # Wait for connection #Use the startdate, I havent figured how the date range works but we can simply filter out the news later on. :)
    app.reqHistoricalNews(1, app.conId, news_providers, historical_news_format, "", historicalNewsParam['numberOfHeadlines'], None)  # Fetch the latest 10 news items

    # Fetch content for each article
    time.sleep(5) # Wait for news to fetch

    news_headlines = app.headlines
    print(len(news_headlines))
    
    article_request_dictionary = {}
    request_uniq_id = 1000
    for article in app.headlines:
        article_request_dictionary[request_uniq_id + 1] = article['articleId']
        request_uniq_id += 1
        
    for request_ID in article_request_dictionary:
        try:
            # Extract provider code and article ID
            provider_code, article_id = article_request_dictionary[request_ID].split('$')[0], article_request_dictionary[request_ID]
            
            # Request the news article
            print(f"Requesting article: Request ID = {request_ID}, Provider = {provider_code}, Article ID = {article_id}")
            app.reqNewsArticle(request_ID, provider_code, article_id, [])
            
            # Throttle requests to avoid pacing violations
            time.sleep(1)
            
        except Exception as e:
            # Handle any exceptions during the API call
            print(f"Error fetching article with Request ID = {request_ID}: {e}")


    # Wait for news to fetch
    time.sleep(5)
    
    # Save headlines and article content to variables
    #news_headlines = clean_news_headlines(app.headlines)
    news_articles = app.articles
    prices = app.price_data

    return prices, news_headlines, news_articles, article_request_dictionary



contract = Contract()
contract.symbol = "AMD"
contract.secType = "STK"
contract.exchange = "SMART"
contract.currency = "USD"

endDate = datetime(2024, 10, 29, 21, 44, 0)


historicalDataParams = {
    'contract': contract,
    'historicalDataDuration': '1 W',  # One week
    'frequency': '2 hours',
}

historicalNewsParam = {
    'numberOfHeadlines' : 170
}


a, b, c, d = get_Data(contract, endDate, historicalDataParams, historicalNewsParam)


app.disconnect()


b[97]


len(d)



